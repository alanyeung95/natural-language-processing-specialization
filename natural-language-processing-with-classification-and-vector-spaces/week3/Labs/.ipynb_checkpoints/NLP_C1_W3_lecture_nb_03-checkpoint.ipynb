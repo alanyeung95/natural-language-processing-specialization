{
 "cells": [
  {
   "cell_type": "markdown",
   "metadata": {},
   "source": [
    "# Another explanation about PCA\n",
    "\n",
    "\n",
    "<img src = 'pca.jpeg' width=\"width\" height=\"height\"/>\n",
    "<sub>photo credit: Raunak Joshi</sub>\n",
    "\n",
    "\n",
    "In this lab, we are going to view another explanation about Principal Component Analysis(PCA). PCA is a statistical technique invented in 1901 by Karl Pearson that uses orthogonal transformations to map a set of variables into a set of linearly uncorrelated variables called Principal Components. \n",
    "\n",
    "PCA is based on the Singular Value Decomposition(SVD) of the Covariance Matrix of the original dataset. The Eigenvectors of such decomposition are used as a rotation matrix.  The Eigenvectors are arranged in the rotation matrix in decreasing order according to its explained variance. This last term is related to the EigenValues of the SVD.\n",
    "\n",
    "PCA is a potent technique with applications ranging from simple space transformation, dimensionality reduction, and mixture separation from spectral information.\n",
    "\n",
    "Follow this lab to view another explanation for PCA. In this case, we are going to use the concept of rotation matrices applied to correlated random data, just as illustrated in the next picture.\n",
    "\n",
    "<img src=GaussianScatterPCA.svg>\n",
    "\n",
    "Source: https://en.wikipedia.org/wiki/Principal_component_analysis\n",
    "\n",
    "As usual, we must import the libraries that will use in this lab."
   ]
  },
  {
   "cell_type": "code",
   "execution_count": 1,
   "metadata": {},
   "outputs": [],
   "source": [
    "import numpy as np                         # Linear algebra library\n",
    "import matplotlib.pyplot as plt            # library for visualization\n",
    "from sklearn.decomposition import PCA      # PCA library\n",
    "import pandas as pd                        # Data frame library\n",
    "import math                                # Library for math functions\n",
    "import random                              # Library for pseudo random numbers"
   ]
  },
  {
   "cell_type": "markdown",
   "metadata": {},
   "source": [
    "To start, let us consider a pair of random variables x, y. Consider the base case when y = n * x. The x and y variables will be perfectly correlated to each other since y is just a scaling of x."
   ]
  },
  {
   "cell_type": "code",
   "execution_count": 2,
   "metadata": {},
   "outputs": [
    {
     "data": {
      "image/png": "[encoded data removed]",
      "text/plain": [
       "<Figure size 432x288 with 1 Axes>"
      ]
     },
     "metadata": {
      "needs_background": "light"
     },
     "output_type": "display_data"
    }
   ],
   "source": [
    "n = 1  # The amount of the correlation\n",
    "x = np.random.uniform(1,2,1000) # Generate 1000 samples from a uniform random variable\n",
    "y = x.copy() * n # Make y = n * x\n",
    "\n",
    "# PCA works better if the data is centered\n",
    "x = x - np.mean(x) # Center x. Remove its mean\n",
    "y = y - np.mean(y) # Center y. Remove its mean\n",
    "\n",
    "data = pd.DataFrame({'x': x, 'y': y}) # Create a data frame with x and y\n",
    "plt.scatter(data.x, data.y) # Plot the original correlated data in blue\n",
    "\n",
    "pca = PCA(n_components=2) # Instantiate a PCA. Choose to get 2 output variables\n",
    "\n",
    "# Create the transformation model for this data. Internally, it gets the rotation \n",
    "# matrix and the explained variance\n",
    "pcaTr = pca.fit(data)\n",
    "\n",
    "rotatedData = pcaTr.transform(data) # Transform the data base on the rotation matrix of pcaTr\n",
    "# # Create a data frame with the new variables. We call these new variables PC1 and PC2\n",
    "dataPCA = pd.DataFrame(data = rotatedData, columns = ['PC1', 'PC2']) \n",
    "\n",
    "# Plot the transformed data in orange\n",
    "plt.scatter(dataPCA.PC1, dataPCA.PC2)\n",
    "plt.show()"
   ]
  },
  {
   "cell_type": "markdown",
   "metadata": {},
   "source": [
    "Now, what is the direction in which the variables point?"
   ]
  },
  {
   "cell_type": "markdown",
   "metadata": {},
   "source": [
    "## Understanding the transformation model pcaTr\n",
    "\n",
    "As mentioned before, a PCA model is composed of a rotation matrix and its corresponding explained variance. In the next module, we will explain the details of the rotation matrices. \n",
    "\n",
    "* `pcaTr.components_` has the rotation matrix \n",
    "* `pcaTr.explained_variance_` has the explained variance of each principal component"
   ]
  },
  {
   "cell_type": "code",
   "execution_count": 3,
   "metadata": {
    "scrolled": true
   },
   "outputs": [
    {
     "name": "stdout",
     "output_type": "stream",
     "text": [
      "Eigenvectors or principal component: First row must be in the direction of [1, n]\n",
      "[[-0.70710678 -0.70710678]\n",
      " [ 0.70710678 -0.70710678]]\n",
      "\n",
      "Eigenvalues or explained variance\n",
      "[1.67350343e-01 8.93694427e-34]\n"
     ]
    }
   ],
   "source": [
    "print('Eigenvectors or principal component: First row must be in the direction of [1, n]')\n",
    "print(pcaTr.components_)\n",
    "\n",
    "print()\n",
    "print('Eigenvalues or explained variance')\n",
    "print(pcaTr.explained_variance_)\n"
   ]
  },
  {
   "cell_type": "markdown",
   "metadata": {},
   "source": [
    "$cos(45^o) = 0.7071$\n",
    "\n",
    "The rotation matrix is equal to:\n",
    "\n",
    "$$R = \\begin{bmatrix} cos(45^o) & sin(45^o) \\\\ -sin(45^o) & cos(45^o) \\end{bmatrix}$$ \n",
    "\n",
    "And $45^o$ is the same angle that form the variables y = 1 * x.\n",
    "\n",
    "Then, PCA has identified the angle in which point the original variables.\n",
    "\n",
    "And the explained Variance is around [0.166 0]. Remember that the Variance of a uniform random variable x ~ U(1, 2), as our x and y, is equal to:\n",
    "\n",
    "$$Var(x) = \\frac {(2 - 1)^2}{12} = 0.083333$$\n",
    "    \n",
    "Then the explained variance given by the PCA can be interpret as\n",
    "\n",
    "$$[Var(x) + Var(y)  \\ 0] = [0.0833 + 0.0833 \\  0] = [0.166 \\ 0]$$\n",
    "\n",
    "Which means that all the explained variance of our new system is explained by our first principal component. \n"
   ]
  },
  {
   "cell_type": "markdown",
   "metadata": {},
   "source": [
    "## Correlated Normal Random Variables.\n",
    "\n",
    "Now, we will use a controlled dataset composed of 2 random variables with different variances and with a specific Covariance among them. The only way I know to get such a dataset is, first, create two independent Normal random variables with the desired variances and then combine them using a rotation matrix. In this way, the new resulting variables will be a linear combination of the original random variables and thus be dependent and correlated."
   ]
  },
  {
   "cell_type": "code",
   "execution_count": 5,
   "metadata": {
    "scrolled": true
   },
   "outputs": [
    {
     "name": "stdout",
     "output_type": "stream",
     "text": [
      "angle:  45.0\n",
      "rotationMatrix\n",
      "[[ 0.70710678  0.70710678]\n",
      " [-0.70710678  0.70710678]]\n"
     ]
    },
    {
     "data": {
      "image/png": "[encoded data removed]",
      "text/plain": [
       "<Figure size 432x288 with 1 Axes>"
      ]
     },
     "metadata": {
      "needs_background": "light"
     },
     "output_type": "display_data"
    }
   ],
   "source": [
    "import matplotlib.lines as mlines\n",
    "import matplotlib.transforms as mtransforms\n",
    "\n",
    "random.seed(100)\n",
    "\n",
    "std1 = 1     # The desired standard deviation of our first random variable\n",
    "std2 = 0.333 # The desired standard deviation of our second random variable\n",
    "\n",
    "x = np.random.normal(0, std1, 1000) # Get 1000 samples from x ~ N(0, std1)\n",
    "y = np.random.normal(0, std2, 1000)  # Get 1000 samples from y ~ N(0, std2)\n",
    "#y = y + np.random.normal(0,1,1000)*noiseLevel * np.sin(0.78)\n",
    "\n",
    "# PCA works better if the data is centered\n",
    "x = x - np.mean(x) # Center x \n",
    "y = y - np.mean(y) # Center y\n",
    "\n",
    "#Define a pair of dependent variables with a desired amount of covariance\n",
    "n = 1 # Magnitude of covariance. \n",
    "angle = np.arctan(1 / n) # Convert the covariance to and angle\n",
    "print('angle: ',  angle * 180 / math.pi)\n",
    "\n",
    "# Create a rotation matrix using the given angle\n",
    "rotationMatrix = np.array([[np.cos(angle), np.sin(angle)],\n",
    "                 [-np.sin(angle), np.cos(angle)]])\n",
    "\n",
    "\n",
    "print('rotationMatrix')\n",
    "print(rotationMatrix)\n",
    "\n",
    "xy = np.concatenate(([x] , [y]), axis=0).T # Create a matrix with columns x and y\n",
    "\n",
    "# Transform the data using the rotation matrix. It correlates the two variables\n",
    "data = np.dot(xy, rotationMatrix) # Return a nD array\n",
    "\n",
    "# Print the rotated data\n",
    "plt.scatter(data[:,0], data[:,1])\n",
    "plt.show()"
   ]
  },
  {
   "cell_type": "markdown",
   "metadata": {},
   "source": [
    "Let us print the original and the resulting transformed system using the result of the PCA in the same plot alongside with the 2 Principal Component vectors in red and blue"
   ]
  },
  {
   "cell_type": "code",
   "execution_count": 6,
   "metadata": {},
   "outputs": [
    {
     "name": "stdout",
     "output_type": "stream",
     "text": [
      "Eigenvectors or principal component: First row must be in the direction of [1, n]\n",
      "[[-0.70901549 -0.70519291]\n",
      " [ 0.70519291 -0.70901549]]\n",
      "\n",
      "Eigenvalues or explained variance\n",
      "[0.99997772 0.11382441]\n"
     ]
    },
    {
     "data": {
      "image/png": "[encoded data removed]",
      "text/plain": [
       "<Figure size 432x288 with 1 Axes>"
      ]
     },
     "metadata": {
      "needs_background": "light"
     },
     "output_type": "display_data"
    }
   ],
   "source": [
    "plt.scatter(data[:,0], data[:,1]) # Print the original data in blue\n",
    "\n",
    "# Apply PCA. In theory, the Eigenvector matrix must be the \n",
    "# inverse of the original rotationMatrix. \n",
    "pca = PCA(n_components=2)  # Instantiate a PCA. Choose to get 2 output variables\n",
    "\n",
    "# Create the transformation model for this data. Internally it gets the rotation \n",
    "# matrix and the explained variance\n",
    "pcaTr = pca.fit(data)\n",
    "\n",
    "# Create an array with the transformed data\n",
    "dataPCA = pcaTr.transform(data)\n",
    "\n",
    "print('Eigenvectors or principal component: First row must be in the direction of [1, n]')\n",
    "print(pcaTr.components_)\n",
    "\n",
    "print()\n",
    "print('Eigenvalues or explained variance')\n",
    "print(pcaTr.explained_variance_)\n",
    "\n",
    "# Print the rotated data\n",
    "plt.scatter(dataPCA[:,0], dataPCA[:,1])\n",
    "\n",
    "# Plot the first component axe. Use the explained variance to scale the vector\n",
    "plt.plot([0, rotationMatrix[0][0] * std1 * 3], [0, rotationMatrix[0][1] * std1 * 3], 'k-', color='red')\n",
    "# Plot the second component axe. Use the explained variance to scale the vector\n",
    "plt.plot([0, rotationMatrix[1][0] * std2 * 3], [0, rotationMatrix[1][1] * std2 * 3], 'k-', color='green')\n",
    "\n",
    "plt.show()"
   ]
  },
  {
   "cell_type": "markdown",
   "metadata": {},
   "source": [
    "The explanation of this chart is as follows:\n",
    "* The rotation matrix used to create our correlated variables took the original uncorrelated variables `x` and `y` and transformed them into the blue points.\n",
    "* The PCA transformation finds out the rotation matrix used to create our correlated variables (blue points). Using the PCA model to transform our data, puts back the variables as our original uncorrelated variables.\n",
    "* The explained Variance of the PCA is \n",
    "\n",
    "$$[1.0094, 0.1125] $$\n",
    "\n",
    "which is approximately\n",
    "\n",
    "$$[1, 0.333 * 0.333] = [std1^2, std2^2],$$\n",
    "\n",
    "the parameters of our original random variables x and y\n",
    "\n",
    "You can use the previous code to try with other standard deviations and correlations and convince your self of this fact.   "
   ]
  },
  {
   "cell_type": "markdown",
   "metadata": {},
   "source": [
    "## PCA as a strategy for dimensionality reduction\n",
    "\n",
    "The principal components contained in the rotation matrix, are decreasingly sorted depending on its explained Variance. It usually means that the first components retain most of the power of the data to explain the patterns that **generalize** the data. Nevertheless, for some applications, we are interested in the patterns that explain much less Variance, for example, in novelty detection. \n",
    "\n",
    "In the next figure, we can see the original data and its corresponding projection over the first and second principal components. In other words, data comprised of a single variable."
   ]
  },
  {
   "cell_type": "code",
   "execution_count": 7,
   "metadata": {},
   "outputs": [
    {
     "data": {
      "image/png": "[encoded data removed]",
      "text/plain": [
       "<Figure size 432x288 with 1 Axes>"
      ]
     },
     "metadata": {
      "needs_background": "light"
     },
     "output_type": "display_data"
    }
   ],
   "source": [
    "nPoints = len(data)\n",
    "\n",
    "# Plot the original data in blue\n",
    "plt.scatter(data[:,0], data[:,1])\n",
    "\n",
    "#Plot the projection along the first component in orange\n",
    "plt.scatter(data[:,0], np.zeros(nPoints))\n",
    "\n",
    "#Plot the projection along the second component in green\n",
    "plt.scatter(np.zeros(nPoints), data[:,1])\n",
    "\n",
    "plt.show()"
   ]
  },
  {
   "cell_type": "markdown",
   "metadata": {},
   "source": [
    "## PCA as a strategy to plot complex data\n",
    "\n",
    "The next chart shows a sample diagram displaying a dataset of pictures of cats and dogs. Raw pictures are composed of hundreds or even thousands of features. However, PCA allows us to reduce that many features to only two. In that reduced space of uncorrelated variables, we can easily separate cats and dogs. \n",
    "\n",
    "<img src = 'catdog.png'>\n",
    "\n",
    "You will learn how to generate a chart like this with word vectors in this week's programming assignment."
   ]
  }
 ],
 "metadata": {
  "kernelspec": {
   "display_name": "Python 3",
   "language": "python",
   "name": "python3"
  },
  "language_info": {
   "codemirror_mode": {
    "name": "ipython",
    "version": 3
   },
   "file_extension": ".py",
   "mimetype": "text/x-python",
   "name": "python",
   "nbconvert_exporter": "python",
   "pygments_lexer": "ipython3",
   "version": "3.5.2"
  }
 },
 "nbformat": 4,
 "nbformat_minor": 4
}
